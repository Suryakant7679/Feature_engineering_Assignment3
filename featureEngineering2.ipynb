{
 "cells": [
  {
   "cell_type": "markdown",
   "id": "f0d23404-44f2-41f1-a1c1-8cc57eded3d4",
   "metadata": {},
   "source": [
    "Q1. What is data encoding? How is it useful in data science?"
   ]
  },
  {
   "cell_type": "markdown",
   "id": "1ab5424f-4cc4-4919-950b-9f9c19d66a71",
   "metadata": {},
   "source": [
    "Ans:- IT is used to eonvert categorical data in such way that machine learning algorithm can understood.\n",
    "Encoding is the process of converting the data or a given sequence of characters, symbols, alphabets etc., into a specified format, for the secured transmission of data."
   ]
  },
  {
   "cell_type": "markdown",
   "id": "2ef91bec-3e9c-40b0-b72b-f2218009067c",
   "metadata": {},
   "source": [
    "Q2. What is nominal encoding? Provide an example of how you would use it in a real-world scenario."
   ]
  },
  {
   "cell_type": "markdown",
   "id": "27804a5c-d595-4b36-b6cb-7286eec1f4cf",
   "metadata": {},
   "source": [
    "When we have a feature where variables are just names and there is no order or rank to this variable's feature. For example: City of person lives in, Gender of person, Marital Status, etc… In the above example, We do not have any order or rank, or sequence."
   ]
  },
  {
   "cell_type": "markdown",
   "id": "3c105f4d-d0b7-44bb-8faf-a2e11b08e168",
   "metadata": {},
   "source": [
    "For example: City of person lives in, Gender of person, Marital Status, etc…\n",
    "\n",
    "In the above example, We do not have any order or rank, or sequence. All the variables in the respective feature are equal. We can't give them any orders or ranks. Those features are called Nominal features."
   ]
  },
  {
   "cell_type": "markdown",
   "id": "7e43aec5-bf4d-4830-8377-aaba1ab972da",
   "metadata": {},
   "source": [
    "Q3. In what situations is nominal encoding preferred over one-hot encoding? Provide a practical example."
   ]
  },
  {
   "cell_type": "markdown",
   "id": "cdad9ec8-4ec9-431b-9373-a87ace960cc5",
   "metadata": {},
   "source": [
    "Ans:- When we have an attribute which is not ordered then in that case we will preffer nominal encoding over one hot encoding\n",
    "\n",
    "A dataframe with attribute of color is not ordered then we will use nominal encoding not one hot encoding"
   ]
  },
  {
   "cell_type": "markdown",
   "id": "afd02cc7-4ed6-4cc7-b555-0a0064af0bfa",
   "metadata": {},
   "source": [
    "Q4. Suppose you have a dataset containing categorical data with 5 unique values. Which encoding\n",
    "technique would you use to transform this data into a format suitable for machine learning algorithms?\n",
    "Explain why you made this choice."
   ]
  },
  {
   "cell_type": "markdown",
   "id": "3f12cbc3-041b-48dc-b53a-276a4a13b069",
   "metadata": {},
   "source": [
    "Ans:-Binary Encoding\n",
    "In this encoding scheme, the categorical feature is first converted into numerical using an ordinal encoder. Then the numbers are transformed in the binary number. After that binary value is split into different columns. Binary encoding works really well when there are a high number of categories"
   ]
  },
  {
   "cell_type": "markdown",
   "id": "c09874fc-a0fd-435c-b03c-678952489423",
   "metadata": {},
   "source": [
    "Q5. In a machine learning project, you have a dataset with 1000 rows and 5 columns. Two of the columns\n",
    "are categorical, and the remaining three columns are numerical. If you were to use nominal encoding to\n",
    "transform the categorical data, how many new columns would be created? Show your calculations."
   ]
  },
  {
   "cell_type": "markdown",
   "id": "3b9e76b8-61e4-4abb-9fdc-6c3cddcbf8a9",
   "metadata": {},
   "source": [
    "Ans:- After encoding the  no of new columns will depend on the basis of no of unic catagorical data present in both columns of 2000 rows, On that basis we can decide how many new columns will be created "
   ]
  },
  {
   "cell_type": "markdown",
   "id": "66517699-8dc3-4eea-93d1-b6cbaae977c8",
   "metadata": {},
   "source": [
    "Q6. You are working with a dataset containing information about different types of animals, including their\n",
    "species, habitat, and diet. Which encoding technique would you use to transform the categorical data into\n",
    "a format suitable for machine learning algorithms? Justify your answer."
   ]
  },
  {
   "cell_type": "markdown",
   "id": "01faf97b-e43d-4062-b083-36edd74736f7",
   "metadata": {},
   "source": [
    "Ans:- I can use nominal data encoding to transform the categorical data. \n",
    "AS the given attribute is not necessary that it will be in ordered format."
   ]
  },
  {
   "cell_type": "markdown",
   "id": "2cd72787-ccb4-4061-93e2-8b1328b3fccc",
   "metadata": {},
   "source": [
    "Q7.You are working on a project that involves predicting customer churn for a telecommunications\n",
    "company. You have a dataset with 5 features, including the customer's gender, age, contract type,\n",
    "monthly charges, and tenure. Which encoding technique(s) would you use to transform the categorical\n",
    "data into numerical data? Provide a step-by-step explanation of how you would implement the encoding."
   ]
  },
  {
   "cell_type": "markdown",
   "id": "21888496-b096-46b4-9c60-08d78e051377",
   "metadata": {},
   "source": [
    "Ans:- suppose in this data set the categorical attribute is gender \n",
    "then we will first import sklearn.preprocessing and then import OHE\n",
    "the we will instantiate it as \n",
    "encoder=OneHotEncoder()\n",
    "then we will create a dataframe from pandas library\n",
    "Then we will fit_transform the data in to sparse matrix and then it will be converted into array\n",
    "\n",
    "Then we will concat the both dataframe"
   ]
  },
  {
   "cell_type": "code",
   "execution_count": null,
   "id": "58d9ff83-ca5c-452a-941b-103920d0c6f6",
   "metadata": {},
   "outputs": [],
   "source": []
  }
 ],
 "metadata": {
  "kernelspec": {
   "display_name": "Python 3 (ipykernel)",
   "language": "python",
   "name": "python3"
  },
  "language_info": {
   "codemirror_mode": {
    "name": "ipython",
    "version": 3
   },
   "file_extension": ".py",
   "mimetype": "text/x-python",
   "name": "python",
   "nbconvert_exporter": "python",
   "pygments_lexer": "ipython3",
   "version": "3.10.0"
  }
 },
 "nbformat": 4,
 "nbformat_minor": 5
}
